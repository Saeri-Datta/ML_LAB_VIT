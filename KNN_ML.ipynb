{
 "cells": [
  {
   "cell_type": "markdown",
   "id": "d7bff8a9",
   "metadata": {},
   "source": [
    "# KNN"
   ]
  },
  {
   "cell_type": "code",
   "execution_count": 136,
   "id": "d074bb2f",
   "metadata": {},
   "outputs": [],
   "source": [
    "import numpy as np \n",
    "import pandas as pd \n",
    "import matplotlib.pyplot as plt \n",
    "import seaborn as sns \n",
    "%matplotlib inline"
   ]
  },
  {
   "cell_type": "code",
   "execution_count": 137,
   "id": "7e826761",
   "metadata": {},
   "outputs": [],
   "source": [
    "df=pd.read_csv('C:/Users/USER/Desktop/petrol_consumption.csv')"
   ]
  },
  {
   "cell_type": "code",
   "execution_count": 106,
   "id": "92ff4fe0",
   "metadata": {},
   "outputs": [
    {
     "data": {
      "text/html": [
       "<div>\n",
       "<style scoped>\n",
       "    .dataframe tbody tr th:only-of-type {\n",
       "        vertical-align: middle;\n",
       "    }\n",
       "\n",
       "    .dataframe tbody tr th {\n",
       "        vertical-align: top;\n",
       "    }\n",
       "\n",
       "    .dataframe thead th {\n",
       "        text-align: right;\n",
       "    }\n",
       "</style>\n",
       "<table border=\"1\" class=\"dataframe\">\n",
       "  <thead>\n",
       "    <tr style=\"text-align: right;\">\n",
       "      <th></th>\n",
       "      <th>Petrol_tax</th>\n",
       "      <th>Average_income</th>\n",
       "      <th>Paved_Highways</th>\n",
       "      <th>Population_Driver_licence(%)</th>\n",
       "      <th>Petrol_Consumption</th>\n",
       "      <th>target</th>\n",
       "    </tr>\n",
       "  </thead>\n",
       "  <tbody>\n",
       "    <tr>\n",
       "      <th>0</th>\n",
       "      <td>9.0</td>\n",
       "      <td>3571</td>\n",
       "      <td>1976</td>\n",
       "      <td>0.525</td>\n",
       "      <td>541</td>\n",
       "      <td>1</td>\n",
       "    </tr>\n",
       "    <tr>\n",
       "      <th>1</th>\n",
       "      <td>9.0</td>\n",
       "      <td>4092</td>\n",
       "      <td>1250</td>\n",
       "      <td>0.572</td>\n",
       "      <td>524</td>\n",
       "      <td>0</td>\n",
       "    </tr>\n",
       "    <tr>\n",
       "      <th>2</th>\n",
       "      <td>9.0</td>\n",
       "      <td>3865</td>\n",
       "      <td>1586</td>\n",
       "      <td>0.580</td>\n",
       "      <td>561</td>\n",
       "      <td>1</td>\n",
       "    </tr>\n",
       "    <tr>\n",
       "      <th>3</th>\n",
       "      <td>7.5</td>\n",
       "      <td>4870</td>\n",
       "      <td>2351</td>\n",
       "      <td>0.529</td>\n",
       "      <td>414</td>\n",
       "      <td>0</td>\n",
       "    </tr>\n",
       "    <tr>\n",
       "      <th>4</th>\n",
       "      <td>8.0</td>\n",
       "      <td>4399</td>\n",
       "      <td>431</td>\n",
       "      <td>0.544</td>\n",
       "      <td>410</td>\n",
       "      <td>1</td>\n",
       "    </tr>\n",
       "  </tbody>\n",
       "</table>\n",
       "</div>"
      ],
      "text/plain": [
       "   Petrol_tax  Average_income  Paved_Highways  Population_Driver_licence(%)  \\\n",
       "0         9.0            3571            1976                         0.525   \n",
       "1         9.0            4092            1250                         0.572   \n",
       "2         9.0            3865            1586                         0.580   \n",
       "3         7.5            4870            2351                         0.529   \n",
       "4         8.0            4399             431                         0.544   \n",
       "\n",
       "   Petrol_Consumption  target  \n",
       "0                 541       1  \n",
       "1                 524       0  \n",
       "2                 561       1  \n",
       "3                 414       0  \n",
       "4                 410       1  "
      ]
     },
     "execution_count": 106,
     "metadata": {},
     "output_type": "execute_result"
    }
   ],
   "source": [
    "df.head()"
   ]
  },
  {
   "cell_type": "code",
   "execution_count": 105,
   "id": "b20c52fa",
   "metadata": {},
   "outputs": [
    {
     "data": {
      "text/plain": [
       "(48, 6)"
      ]
     },
     "execution_count": 105,
     "metadata": {},
     "output_type": "execute_result"
    }
   ],
   "source": [
    "df.shape"
   ]
  },
  {
   "cell_type": "code",
   "execution_count": 107,
   "id": "8093fea8",
   "metadata": {},
   "outputs": [
    {
     "data": {
      "text/plain": [
       "Index(['Petrol_tax', 'Average_income', 'Paved_Highways',\n",
       "       'Population_Driver_licence(%)', 'Petrol_Consumption', 'target'],\n",
       "      dtype='object')"
      ]
     },
     "execution_count": 107,
     "metadata": {},
     "output_type": "execute_result"
    }
   ],
   "source": [
    "col_names = ['Petrol_tax','Average_income','Paved_Highways','Population_Driver_licence(%)','Petrol_Consumption','target']\n",
    "\n",
    "df.columns = col_names\n",
    "\n",
    "df.columns"
   ]
  },
  {
   "cell_type": "code",
   "execution_count": 108,
   "id": "627eb9ae",
   "metadata": {},
   "outputs": [
    {
     "name": "stdout",
     "output_type": "stream",
     "text": [
      "7.00     19\n",
      "8.00     10\n",
      "9.00      8\n",
      "7.50      4\n",
      "8.50      3\n",
      "10.00     1\n",
      "6.58      1\n",
      "5.00      1\n",
      "6.00      1\n",
      "Name: Petrol_tax, dtype: int64\n",
      "5126    2\n",
      "3571    1\n",
      "4045    1\n",
      "3846    1\n",
      "4188    1\n",
      "3601    1\n",
      "3640    1\n",
      "3333    1\n",
      "3063    1\n",
      "3357    1\n",
      "3528    1\n",
      "3802    1\n",
      "3897    1\n",
      "3721    1\n",
      "3635    1\n",
      "4345    1\n",
      "4449    1\n",
      "3656    1\n",
      "4300    1\n",
      "3745    1\n",
      "5215    1\n",
      "4476    1\n",
      "4296    1\n",
      "3448    1\n",
      "4574    1\n",
      "4092    1\n",
      "4258    1\n",
      "3865    1\n",
      "4870    1\n",
      "4399    1\n",
      "5342    1\n",
      "5319    1\n",
      "4447    1\n",
      "4512    1\n",
      "4391    1\n",
      "4817    1\n",
      "4207    1\n",
      "4332    1\n",
      "4318    1\n",
      "4206    1\n",
      "3718    1\n",
      "4716    1\n",
      "4341    1\n",
      "4593    1\n",
      "4983    1\n",
      "4897    1\n",
      "5002    1\n",
      "Name: Average_income, dtype: int64\n",
      "7834     2\n",
      "1976     1\n",
      "2619     1\n",
      "5399     1\n",
      "9061     1\n",
      "5975     1\n",
      "4650     1\n",
      "6905     1\n",
      "6594     1\n",
      "6524     1\n",
      "4121     1\n",
      "3495     1\n",
      "17782    1\n",
      "6385     1\n",
      "3274     1\n",
      "3905     1\n",
      "4639     1\n",
      "3985     1\n",
      "3635     1\n",
      "2611     1\n",
      "2302     1\n",
      "3942     1\n",
      "4083     1\n",
      "4746     1\n",
      "4686     1\n",
      "1250     1\n",
      "2449     1\n",
      "1586     1\n",
      "2351     1\n",
      "431      1\n",
      "1333     1\n",
      "11868    1\n",
      "2138     1\n",
      "8577     1\n",
      "8507     1\n",
      "5939     1\n",
      "14186    1\n",
      "6930     1\n",
      "6580     1\n",
      "8159     1\n",
      "10340    1\n",
      "8508     1\n",
      "4725     1\n",
      "5915     1\n",
      "6010     1\n",
      "602      1\n",
      "9794     1\n",
      "Name: Paved_Highways, dtype: int64\n",
      "0.525    2\n",
      "0.672    2\n",
      "0.572    2\n",
      "0.663    2\n",
      "0.586    2\n",
      "0.563    2\n",
      "0.571    2\n",
      "0.544    2\n",
      "0.529    2\n",
      "0.508    1\n",
      "0.603    1\n",
      "0.626    1\n",
      "0.566    1\n",
      "0.579    1\n",
      "0.487    1\n",
      "0.547    1\n",
      "0.578    1\n",
      "0.513    1\n",
      "0.518    1\n",
      "0.623    1\n",
      "0.493    1\n",
      "0.629    1\n",
      "0.511    1\n",
      "0.548    1\n",
      "0.551    1\n",
      "0.517    1\n",
      "0.602    1\n",
      "0.677    1\n",
      "0.724    1\n",
      "0.540    1\n",
      "0.608    1\n",
      "0.545    1\n",
      "0.574    1\n",
      "0.530    1\n",
      "0.552    1\n",
      "0.553    1\n",
      "0.451    1\n",
      "0.580    1\n",
      "0.593    1\n",
      "Name: Population_Driver_licence(%), dtype: int64\n",
      "524    2\n",
      "640    2\n",
      "464    2\n",
      "566    2\n",
      "577    2\n",
      "541    1\n",
      "487    1\n",
      "574    1\n",
      "534    1\n",
      "571    1\n",
      "554    1\n",
      "628    1\n",
      "704    1\n",
      "644    1\n",
      "648    1\n",
      "968    1\n",
      "587    1\n",
      "699    1\n",
      "632    1\n",
      "591    1\n",
      "782    1\n",
      "510    1\n",
      "631    1\n",
      "540    1\n",
      "460    1\n",
      "580    1\n",
      "561    1\n",
      "414    1\n",
      "410    1\n",
      "457    1\n",
      "344    1\n",
      "467    1\n",
      "498    1\n",
      "471    1\n",
      "547    1\n",
      "525    1\n",
      "508    1\n",
      "635    1\n",
      "603    1\n",
      "714    1\n",
      "865    1\n",
      "649    1\n",
      "610    1\n",
      "Name: Petrol_Consumption, dtype: int64\n",
      "1    28\n",
      "0    20\n",
      "Name: target, dtype: int64\n"
     ]
    }
   ],
   "source": [
    "for var in df.columns:\n",
    "    \n",
    "    print(df[var].value_counts())"
   ]
  },
  {
   "cell_type": "code",
   "execution_count": 109,
   "id": "bcaf61d0",
   "metadata": {},
   "outputs": [
    {
     "data": {
      "text/plain": [
       "Petrol_tax                      0\n",
       "Average_income                  0\n",
       "Paved_Highways                  0\n",
       "Population_Driver_licence(%)    0\n",
       "Petrol_Consumption              0\n",
       "target                          0\n",
       "dtype: int64"
      ]
     },
     "execution_count": 109,
     "metadata": {},
     "output_type": "execute_result"
    }
   ],
   "source": [
    "df.isnull().sum()"
   ]
  },
  {
   "cell_type": "code",
   "execution_count": 110,
   "id": "ec9cce94",
   "metadata": {},
   "outputs": [
    {
     "data": {
      "text/plain": [
       "Petrol_tax                      0\n",
       "Average_income                  0\n",
       "Paved_Highways                  0\n",
       "Population_Driver_licence(%)    0\n",
       "Petrol_Consumption              0\n",
       "target                          0\n",
       "dtype: int64"
      ]
     },
     "execution_count": 110,
     "metadata": {},
     "output_type": "execute_result"
    }
   ],
   "source": [
    "df.isna().sum()"
   ]
  },
  {
   "cell_type": "code",
   "execution_count": 114,
   "id": "b548d73c",
   "metadata": {},
   "outputs": [
    {
     "data": {
      "text/plain": [
       "1    28\n",
       "0    20\n",
       "Name: target, dtype: int64"
      ]
     },
     "execution_count": 114,
     "metadata": {},
     "output_type": "execute_result"
    }
   ],
   "source": [
    "df['target'].value_counts()"
   ]
  },
  {
   "cell_type": "code",
   "execution_count": 115,
   "id": "96a206f0",
   "metadata": {},
   "outputs": [
    {
     "data": {
      "text/plain": [
       "array([1, 0], dtype=int64)"
      ]
     },
     "execution_count": 115,
     "metadata": {},
     "output_type": "execute_result"
    }
   ],
   "source": [
    "df['target'].unique()"
   ]
  },
  {
   "cell_type": "code",
   "execution_count": 116,
   "id": "96f0b128",
   "metadata": {},
   "outputs": [
    {
     "data": {
      "text/plain": [
       "0"
      ]
     },
     "execution_count": 116,
     "metadata": {},
     "output_type": "execute_result"
    }
   ],
   "source": [
    "df['target'].isna().sum()"
   ]
  },
  {
   "cell_type": "code",
   "execution_count": 117,
   "id": "cf178790",
   "metadata": {},
   "outputs": [
    {
     "data": {
      "image/png": "[encoded data removed]",
      "text/plain": [
       "<Figure size 2160x1800 with 10 Axes>"
      ]
     },
     "metadata": {
      "needs_background": "light"
     },
     "output_type": "display_data"
    }
   ],
   "source": [
    "plt.rcParams['figure.figsize']=(30,25)\n",
    "\n",
    "df.plot(kind='hist', bins=10, subplots=True, layout=(5,2), sharex=False, sharey=False)\n",
    "\n",
    "plt.show()"
   ]
  },
  {
   "cell_type": "code",
   "execution_count": 118,
   "id": "97877ef4",
   "metadata": {},
   "outputs": [],
   "source": [
    "X = df.drop(['target'], axis=1)\n",
    "\n",
    "y = df['target']"
   ]
  },
  {
   "cell_type": "code",
   "execution_count": 119,
   "id": "30cbfb8e",
   "metadata": {},
   "outputs": [],
   "source": [
    "from sklearn.model_selection import train_test_split\n",
    "\n",
    "X_train, X_test, y_train, y_test = train_test_split(X, y, test_size = 0.2, random_state = 0)"
   ]
  },
  {
   "cell_type": "code",
   "execution_count": 120,
   "id": "5eb95e4e",
   "metadata": {},
   "outputs": [
    {
     "data": {
      "text/plain": [
       "((38, 5), (10, 5))"
      ]
     },
     "execution_count": 120,
     "metadata": {},
     "output_type": "execute_result"
    }
   ],
   "source": [
    "X_train.shape, X_test.shape"
   ]
  },
  {
   "cell_type": "code",
   "execution_count": 121,
   "id": "a6123770",
   "metadata": {},
   "outputs": [],
   "source": [
    "cols = X_train.columns"
   ]
  },
  {
   "cell_type": "code",
   "execution_count": 122,
   "id": "d1f2bc7d",
   "metadata": {},
   "outputs": [],
   "source": [
    "from sklearn.preprocessing import StandardScaler\n",
    "\n",
    "scaler = StandardScaler()\n",
    "\n",
    "X_train = scaler.fit_transform(X_train)\n",
    "\n",
    "X_test = scaler.transform(X_test)"
   ]
  },
  {
   "cell_type": "code",
   "execution_count": 123,
   "id": "0202a3eb",
   "metadata": {},
   "outputs": [],
   "source": [
    "X_train = pd.DataFrame(X_train, columns=[cols])"
   ]
  },
  {
   "cell_type": "code",
   "execution_count": 124,
   "id": "e3cd5edb",
   "metadata": {},
   "outputs": [],
   "source": [
    "X_test = pd.DataFrame(X_test, columns=[cols])"
   ]
  },
  {
   "cell_type": "code",
   "execution_count": 125,
   "id": "6b769f3e",
   "metadata": {},
   "outputs": [
    {
     "data": {
      "text/html": [
       "<div>\n",
       "<style scoped>\n",
       "    .dataframe tbody tr th:only-of-type {\n",
       "        vertical-align: middle;\n",
       "    }\n",
       "\n",
       "    .dataframe tbody tr th {\n",
       "        vertical-align: top;\n",
       "    }\n",
       "\n",
       "    .dataframe thead tr th {\n",
       "        text-align: left;\n",
       "    }\n",
       "</style>\n",
       "<table border=\"1\" class=\"dataframe\">\n",
       "  <thead>\n",
       "    <tr>\n",
       "      <th></th>\n",
       "      <th>Petrol_tax</th>\n",
       "      <th>Average_income</th>\n",
       "      <th>Paved_Highways</th>\n",
       "      <th>Population_Driver_licence(%)</th>\n",
       "      <th>Petrol_Consumption</th>\n",
       "    </tr>\n",
       "  </thead>\n",
       "  <tbody>\n",
       "    <tr>\n",
       "      <th>0</th>\n",
       "      <td>-0.132526</td>\n",
       "      <td>1.505774</td>\n",
       "      <td>2.258546</td>\n",
       "      <td>-0.915791</td>\n",
       "      <td>-0.965469</td>\n",
       "    </tr>\n",
       "    <tr>\n",
       "      <th>1</th>\n",
       "      <td>-0.628193</td>\n",
       "      <td>-1.833670</td>\n",
       "      <td>0.212334</td>\n",
       "      <td>-1.128527</td>\n",
       "      <td>-0.256154</td>\n",
       "    </tr>\n",
       "    <tr>\n",
       "      <th>2</th>\n",
       "      <td>-0.132526</td>\n",
       "      <td>-1.788970</td>\n",
       "      <td>-0.454195</td>\n",
       "      <td>-0.525775</td>\n",
       "      <td>0.376247</td>\n",
       "    </tr>\n",
       "    <tr>\n",
       "      <th>3</th>\n",
       "      <td>-0.132526</td>\n",
       "      <td>-0.878213</td>\n",
       "      <td>0.877245</td>\n",
       "      <td>0.041521</td>\n",
       "      <td>0.401885</td>\n",
       "    </tr>\n",
       "    <tr>\n",
       "      <th>4</th>\n",
       "      <td>-0.628193</td>\n",
       "      <td>1.274825</td>\n",
       "      <td>1.074805</td>\n",
       "      <td>0.289713</td>\n",
       "      <td>-0.512533</td>\n",
       "    </tr>\n",
       "  </tbody>\n",
       "</table>\n",
       "</div>"
      ],
      "text/plain": [
       "  Petrol_tax Average_income Paved_Highways Population_Driver_licence(%)  \\\n",
       "0  -0.132526       1.505774       2.258546                    -0.915791   \n",
       "1  -0.628193      -1.833670       0.212334                    -1.128527   \n",
       "2  -0.132526      -1.788970      -0.454195                    -0.525775   \n",
       "3  -0.132526      -0.878213       0.877245                     0.041521   \n",
       "4  -0.628193       1.274825       1.074805                     0.289713   \n",
       "\n",
       "  Petrol_Consumption  \n",
       "0          -0.965469  \n",
       "1          -0.256154  \n",
       "2           0.376247  \n",
       "3           0.401885  \n",
       "4          -0.512533  "
      ]
     },
     "execution_count": 125,
     "metadata": {},
     "output_type": "execute_result"
    }
   ],
   "source": [
    "X_train.head()"
   ]
  },
  {
   "cell_type": "code",
   "execution_count": 126,
   "id": "3ebe7771",
   "metadata": {},
   "outputs": [],
   "source": [
    "from sklearn.neighbors import KNeighborsClassifier"
   ]
  },
  {
   "cell_type": "code",
   "execution_count": 127,
   "id": "acdd541b",
   "metadata": {},
   "outputs": [],
   "source": [
    "knn = KNeighborsClassifier(n_neighbors=3)"
   ]
  },
  {
   "cell_type": "code",
   "execution_count": 128,
   "id": "b4edb8c5",
   "metadata": {},
   "outputs": [
    {
     "data": {
      "text/plain": [
       "KNeighborsClassifier(n_neighbors=3)"
      ]
     },
     "execution_count": 128,
     "metadata": {},
     "output_type": "execute_result"
    }
   ],
   "source": [
    "knn.fit(X_train, y_train)\n",
    "KNeighborsClassifier(algorithm='auto', leaf_size=30, metric='minkowski',\n",
    "                     metric_params=None, n_jobs=None, n_neighbors=3, p=2,\n",
    "                     weights='uniform')"
   ]
  },
  {
   "cell_type": "code",
   "execution_count": 131,
   "id": "8fc53475",
   "metadata": {},
   "outputs": [
    {
     "data": {
      "text/plain": [
       "array([1, 0, 0, 0, 0, 1, 1, 0, 0, 0], dtype=int64)"
      ]
     },
     "execution_count": 131,
     "metadata": {},
     "output_type": "execute_result"
    }
   ],
   "source": [
    "y_pred = knn.predict(X_test)\n",
    "\n",
    "y_pred"
   ]
  },
  {
   "cell_type": "code",
   "execution_count": 132,
   "id": "c1a1829b",
   "metadata": {},
   "outputs": [
    {
     "data": {
      "text/plain": [
       "array([0.33333333, 1.        , 0.66666667, 0.66666667, 0.66666667,\n",
       "       0.        , 0.33333333, 1.        , 0.66666667, 0.66666667])"
      ]
     },
     "execution_count": 132,
     "metadata": {},
     "output_type": "execute_result"
    }
   ],
   "source": [
    "knn.predict_proba(X_test)[:,0]"
   ]
  },
  {
   "cell_type": "code",
   "execution_count": 134,
   "id": "f08c4f5c",
   "metadata": {},
   "outputs": [
    {
     "name": "stdout",
     "output_type": "stream",
     "text": [
      "Model accuracy score: 0.40\n"
     ]
    }
   ],
   "source": [
    "from sklearn.metrics import accuracy_score\n",
    "\n",
    "print('Model accuracy score: {0:0.2f}'. format(accuracy_score(y_test, y_pred)))"
   ]
  },
  {
   "cell_type": "code",
   "execution_count": null,
   "id": "12b0444e",
   "metadata": {},
   "outputs": [],
   "source": []
  }
 ],
 "metadata": {
  "kernelspec": {
   "display_name": "Python 3 (ipykernel)",
   "language": "python",
   "name": "python3"
  },
  "language_info": {
   "codemirror_mode": {
    "name": "ipython",
    "version": 3
   },
   "file_extension": ".py",
   "mimetype": "text/x-python",
   "name": "python",
   "nbconvert_exporter": "python",
   "pygments_lexer": "ipython3",
   "version": "3.9.7"
  }
 },
 "nbformat": 4,
 "nbformat_minor": 5
}
